{
 "cells": [
  {
   "cell_type": "code",
   "execution_count": 25,
   "metadata": {},
   "outputs": [],
   "source": [
    "import yaml\n",
    "\n",
    "def load_resume_data(yaml_file_path=\"resume.yaml\"):\n",
    "    \"\"\"Loads and parses the resume.yaml file.\"\"\"\n",
    "    with open(yaml_file_path, \"r\") as f:\n",
    "        try:\n",
    "            resume_data = yaml.safe_load(f)\n",
    "            return resume_data\n",
    "        except yaml.YAMLError as e:\n",
    "            print(f\"Error parsing YAML file: {e}\")\n",
    "            return None\n",
    "\n",
    "def extract_heading_section(resume_data):\n",
    "    \"\"\"Extracts the heading section from resume data.\"\"\"\n",
    "    personal_info = resume_data.get(\"personal_information\", {})\n",
    "    heading_data = {\n",
    "        \"name\": f\"{personal_info.get('name', '')} {personal_info.get('surname', '')}\",\n",
    "        \"phone\": f\"{personal_info.get('phone_prefix', '')}{personal_info.get('phone', '')}\",\n",
    "        \"email\": personal_info.get(\"email\", \"\"),\n",
    "        \"linkedin\": personal_info.get(\"linkedin\", \"\"),\n",
    "        \"github\": personal_info.get(\"github\", \"\"),\n",
    "    }\n",
    "    return heading_data\n",
    "\n",
    "def extract_education_section(resume_data):\n",
    "    \"\"\"Extracts the education section from resume data.\"\"\"\n",
    "    education_list = resume_data.get(\"education_details\", [])\n",
    "    education_data = []\n",
    "    for edu in education_list:\n",
    "        education_data.append({\n",
    "            \"university\": edu.get(\"university\", \"\"),\n",
    "            \"duration\": edu.get(\"graduation_year\", \"\"),\n",
    "            \"degree\": f\"{edu.get('degree', '')}s in {edu.get('field_of_study', '')}\",\n",
    "            \"location\": edu.get(\"location\", \"\"),  # You don't have location in your education details\n",
    "            \"gpa\": edu.get(\"gpa\", \"\"),\n",
    "            \"relevant_coursework\": edu.get(\"courses\", [])\n",
    "        })\n",
    "    return education_data\n",
    "\n",
    "def extract_experience_section(resume_data):\n",
    "    \"\"\"Extracts the experience section from resume data.\"\"\"\n",
    "    experience_list = resume_data.get(\"experience_details\", [])\n",
    "    experience_data = []\n",
    "    for exp in experience_list:\n",
    "        experience_data.append({\n",
    "            \"company\": exp.get(\"company\", \"\"),\n",
    "            \"duration\": exp.get(\"employment_period\", \"\"),\n",
    "            \"role\": exp.get(\"position\", \"\"),\n",
    "            \"location\": exp.get(\"location\", \"\"),\n",
    "            \"tools\": exp.get(\"skills_acquired\", []),\n",
    "            \"responsibilities\": exp.get(\"key_responsibilities\", [])\n",
    "        })\n",
    "    return experience_data\n",
    "\n",
    "def extract_projects_section(resume_data):\n",
    "    \"\"\"Extracts the projects section from resume data.\"\"\"\n",
    "    project_list = resume_data.get(\"projects\", [])\n",
    "    project_data = []\n",
    "    for proj in project_list:\n",
    "        project_data.append({\n",
    "            \"title\": proj.get(\"name\", \"\"),\n",
    "            \"skills\": [],  # You don't have specific skills listed per project, you could extract from description\n",
    "            \"descriptions\": [proj.get(\"description\", \"\")] # Assuming description is a single string, adjust if it's a list\n",
    "        })\n",
    "    return project_data\n",
    "\n",
    "def extract_skills_section(resume_data):\n",
    "    \"\"\"Extracts the skills section from resume data.\"\"\"\n",
    "    skills_data = resume_data.get(\"skills\", {})\n",
    "    formatted_skills = []\n",
    "    for category, skills in skills_data.items():\n",
    "        formatted_skills.append({\n",
    "            \"category\": category.replace(\"_\", \" \").title(),\n",
    "            \"items\": skills\n",
    "        })\n",
    "    return formatted_skills\n",
    "\n"
   ]
  },
  {
   "cell_type": "code",
   "execution_count": 26,
   "metadata": {},
   "outputs": [],
   "source": [
    "resume_file_path = \"assets/resume.yaml\"\n",
    "resume_data = load_resume_data(resume_file_path)\n",
    "\n",
    "education_data = extract_education_section(resume_data=resume_data)\n",
    "experience_data = extract_experience_section(resume_data=resume_data)\n",
    "projects_data = extract_projects_section(resume_data=resume_data)\n",
    "skills_data = extract_skills_section(resume_data=resume_data)\n",
    "heading_data = extract_heading_section(resume_data=resume_data)"
   ]
  },
  {
   "cell_type": "code",
   "execution_count": 27,
   "metadata": {},
   "outputs": [
    {
     "data": {
      "text/plain": [
       "{'name': 'Bhavya Pranav Tandra',\n",
       " 'phone': '+16179062441',\n",
       " 'email': 'tandra.b@northeastern.edu',\n",
       " 'linkedin': 'https://www.linkedin.com/in/pranav-tandra525',\n",
       " 'github': 'https://github.com/Pranavbp525'}"
      ]
     },
     "execution_count": 27,
     "metadata": {},
     "output_type": "execute_result"
    }
   ],
   "source": [
    "heading_data"
   ]
  },
  {
   "cell_type": "code",
   "execution_count": 28,
   "metadata": {},
   "outputs": [],
   "source": [
    "from pydantic import BaseModel\n",
    "class HeadingData(BaseModel):\n",
    "    name: str\n",
    "    phone: str\n",
    "    email: str\n",
    "    linkedin: str\n",
    "    github: str"
   ]
  },
  {
   "cell_type": "code",
   "execution_count": 29,
   "metadata": {},
   "outputs": [],
   "source": [
    "heading = HeadingData.model_validate(heading_data)"
   ]
  },
  {
   "cell_type": "code",
   "execution_count": 30,
   "metadata": {},
   "outputs": [
    {
     "data": {
      "text/plain": [
       "HeadingData(name='Bhavya Pranav Tandra', phone='+16179062441', email='tandra.b@northeastern.edu', linkedin='https://www.linkedin.com/in/pranav-tandra525', github='https://github.com/Pranavbp525')"
      ]
     },
     "execution_count": 30,
     "metadata": {},
     "output_type": "execute_result"
    }
   ],
   "source": [
    "heading"
   ]
  },
  {
   "cell_type": "code",
   "execution_count": 31,
   "metadata": {},
   "outputs": [
    {
     "data": {
      "text/plain": [
       "[{'university': 'Northeastern University',\n",
       "  'duration': '2025',\n",
       "  'degree': 'Masterss in Artificial Intelligence',\n",
       "  'location': 'Boston, MA',\n",
       "  'gpa': '3.76/4.00',\n",
       "  'relevant_coursework': ['Large Language Models',\n",
       "   'Deep Learning',\n",
       "   'Machine Learning',\n",
       "   'Foundations in Artificial Intelligence',\n",
       "   'Artificial Intelligence for Human Computer Interaction',\n",
       "   'Algorithms',\n",
       "   'Programming Design Paradigm']},\n",
       " {'university': 'Malla Reddy College of Engineering and Technology',\n",
       "  'duration': '2022',\n",
       "  'degree': 'Bachelorss in Computer Science',\n",
       "  'location': 'Hyderabad, India',\n",
       "  'gpa': '8.43/10.00',\n",
       "  'relevant_coursework': ['Data Warehousing and Data Mining',\n",
       "   'Cloud Computing',\n",
       "   'Linux',\n",
       "   'Big Data Analytics',\n",
       "   'Data Visualization',\n",
       "   'Parallel and Distributed Computing',\n",
       "   'Database Management Systems']}]"
      ]
     },
     "execution_count": 31,
     "metadata": {},
     "output_type": "execute_result"
    }
   ],
   "source": [
    "education_data"
   ]
  },
  {
   "cell_type": "code",
   "execution_count": 32,
   "metadata": {},
   "outputs": [],
   "source": [
    "def education_prompt(job_description, user_education):\n",
    "    \"\"\"Generates a prompt for the education section.\"\"\"\n",
    "    \n",
    "    schema_instruction = \"\"\"\n",
    "    {\n",
    "        \"university\": \"Name of the university\",\n",
    "        \"duration\": \"Years attended\",\n",
    "        \"degree\": \"Degree earned\",\n",
    "        \"location\": \"Location of the university\",\n",
    "        \"gpa\": \"Grade point average (optional)\",\n",
    "        \"relevant_coursework\": [\"List of relevant courses (optional)\"]\n",
    "    }\n",
    "    \"\"\"\n",
    "    \n",
    "    prompt = f\"\"\"\n",
    "    Job Description:\n",
    "    {job_description}\n",
    "\n",
    "    My education:\n",
    "    {user_education}\n",
    "\n",
    "    Please select up to 8 relevant courses from my education history that match the job description.\n",
    "    Output my education details in JSON format adhering to the following schema:\n",
    "\n",
    "    {schema_instruction}\n",
    "\n",
    "    Ensure the output is a valid JSON array with each element representing an education entry adhering to the specified schema.\n",
    "    \"\"\"\n",
    "    return prompt"
   ]
  },
  {
   "cell_type": "code",
   "execution_count": 45,
   "metadata": {},
   "outputs": [
    {
     "ename": "TypeError",
     "evalue": "'str' object is not callable",
     "output_type": "error",
     "traceback": [
      "\u001b[0;31m---------------------------------------------------------------------------\u001b[0m",
      "\u001b[0;31mTypeError\u001b[0m                                 Traceback (most recent call last)",
      "Cell \u001b[0;32mIn[45], line 1\u001b[0m\n\u001b[0;32m----> 1\u001b[0m education_prompt \u001b[38;5;241m=\u001b[39m \u001b[43meducation_prompt\u001b[49m\u001b[43m(\u001b[49m\u001b[38;5;124;43m\"\u001b[39;49m\u001b[38;5;124;43m\"\u001b[39;49m\u001b[43m,\u001b[49m\u001b[43m \u001b[49m\u001b[43meducation_response\u001b[49m\u001b[43m)\u001b[49m\n",
      "\u001b[0;31mTypeError\u001b[0m: 'str' object is not callable"
     ]
    }
   ],
   "source": [
    "education_prompt = education_prompt(\"\", education_response)"
   ]
  },
  {
   "cell_type": "code",
   "execution_count": 44,
   "metadata": {},
   "outputs": [],
   "source": [
    "education_response = EducationResponse(education=[EducationItem(**item) for item in education_data])\n"
   ]
  },
  {
   "cell_type": "code",
   "execution_count": 36,
   "metadata": {},
   "outputs": [],
   "source": [
    "from typing import List, Optional\n",
    "class EducationItem(BaseModel):\n",
    "    university: str\n",
    "    duration: str\n",
    "    degree: str\n",
    "    location: str\n",
    "    gpa: Optional[str] = None  # GPA is optional\n",
    "    relevant_coursework: Optional[List[str]] = None  # Relevant coursework is optional\n",
    "\n",
    "class EducationResponse(BaseModel):\n",
    "    education: List[EducationItem]"
   ]
  },
  {
   "cell_type": "code",
   "execution_count": 41,
   "metadata": {},
   "outputs": [],
   "source": [
    "x = [EducationItem.model_validate(education) for education in education_data]"
   ]
  },
  {
   "cell_type": "code",
   "execution_count": 42,
   "metadata": {},
   "outputs": [
    {
     "data": {
      "text/plain": [
       "[EducationItem(university='Northeastern University', duration='2025', degree='Masterss in Artificial Intelligence', location='Boston, MA', gpa='3.76/4.00', relevant_coursework=['Large Language Models', 'Deep Learning', 'Machine Learning', 'Foundations in Artificial Intelligence', 'Artificial Intelligence for Human Computer Interaction', 'Algorithms', 'Programming Design Paradigm']),\n",
       " EducationItem(university='Malla Reddy College of Engineering and Technology', duration='2022', degree='Bachelorss in Computer Science', location='Hyderabad, India', gpa='8.43/10.00', relevant_coursework=['Data Warehousing and Data Mining', 'Cloud Computing', 'Linux', 'Big Data Analytics', 'Data Visualization', 'Parallel and Distributed Computing', 'Database Management Systems'])]"
      ]
     },
     "execution_count": 42,
     "metadata": {},
     "output_type": "execute_result"
    }
   ],
   "source": [
    "x"
   ]
  },
  {
   "cell_type": "code",
   "execution_count": 43,
   "metadata": {},
   "outputs": [
    {
     "ename": "ValidationError",
     "evalue": "1 validation error for EducationResponse\n  Input should be a valid dictionary or instance of EducationResponse [type=model_type, input_value=[EducationItem(university...e Management Systems'])], input_type=list]\n    For further information visit https://errors.pydantic.dev/2.10/v/model_type",
     "output_type": "error",
     "traceback": [
      "\u001b[0;31m---------------------------------------------------------------------------\u001b[0m",
      "\u001b[0;31mValidationError\u001b[0m                           Traceback (most recent call last)",
      "Cell \u001b[0;32mIn[43], line 1\u001b[0m\n\u001b[0;32m----> 1\u001b[0m \u001b[43mEducationResponse\u001b[49m\u001b[38;5;241;43m.\u001b[39;49m\u001b[43mmodel_validate\u001b[49m\u001b[43m(\u001b[49m\u001b[43mx\u001b[49m\u001b[43m)\u001b[49m\n",
      "File \u001b[0;32m~/.local/share/virtualenvs/ResumeGenerator-bghmYuwk/lib/python3.10/site-packages/pydantic/main.py:627\u001b[0m, in \u001b[0;36mBaseModel.model_validate\u001b[0;34m(cls, obj, strict, from_attributes, context)\u001b[0m\n\u001b[1;32m    625\u001b[0m \u001b[38;5;66;03m# `__tracebackhide__` tells pytest and some other tools to omit this function from tracebacks\u001b[39;00m\n\u001b[1;32m    626\u001b[0m __tracebackhide__ \u001b[38;5;241m=\u001b[39m \u001b[38;5;28;01mTrue\u001b[39;00m\n\u001b[0;32m--> 627\u001b[0m \u001b[38;5;28;01mreturn\u001b[39;00m \u001b[38;5;28;43mcls\u001b[39;49m\u001b[38;5;241;43m.\u001b[39;49m\u001b[43m__pydantic_validator__\u001b[49m\u001b[38;5;241;43m.\u001b[39;49m\u001b[43mvalidate_python\u001b[49m\u001b[43m(\u001b[49m\n\u001b[1;32m    628\u001b[0m \u001b[43m    \u001b[49m\u001b[43mobj\u001b[49m\u001b[43m,\u001b[49m\u001b[43m \u001b[49m\u001b[43mstrict\u001b[49m\u001b[38;5;241;43m=\u001b[39;49m\u001b[43mstrict\u001b[49m\u001b[43m,\u001b[49m\u001b[43m \u001b[49m\u001b[43mfrom_attributes\u001b[49m\u001b[38;5;241;43m=\u001b[39;49m\u001b[43mfrom_attributes\u001b[49m\u001b[43m,\u001b[49m\u001b[43m \u001b[49m\u001b[43mcontext\u001b[49m\u001b[38;5;241;43m=\u001b[39;49m\u001b[43mcontext\u001b[49m\n\u001b[1;32m    629\u001b[0m \u001b[43m\u001b[49m\u001b[43m)\u001b[49m\n",
      "\u001b[0;31mValidationError\u001b[0m: 1 validation error for EducationResponse\n  Input should be a valid dictionary or instance of EducationResponse [type=model_type, input_value=[EducationItem(university...e Management Systems'])], input_type=list]\n    For further information visit https://errors.pydantic.dev/2.10/v/model_type"
     ]
    }
   ],
   "source": [
    "EducationResponse.model_validate(x)"
   ]
  },
  {
   "cell_type": "code",
   "execution_count": 46,
   "metadata": {},
   "outputs": [
    {
     "data": {
      "text/plain": [
       "EducationResponse(education=[EducationItem(university='Northeastern University', duration='2025', degree='Masterss in Artificial Intelligence', location='Boston, MA', gpa='3.76/4.00', relevant_coursework=['Large Language Models', 'Deep Learning', 'Machine Learning', 'Foundations in Artificial Intelligence', 'Artificial Intelligence for Human Computer Interaction', 'Algorithms', 'Programming Design Paradigm']), EducationItem(university='Malla Reddy College of Engineering and Technology', duration='2022', degree='Bachelorss in Computer Science', location='Hyderabad, India', gpa='8.43/10.00', relevant_coursework=['Data Warehousing and Data Mining', 'Cloud Computing', 'Linux', 'Big Data Analytics', 'Data Visualization', 'Parallel and Distributed Computing', 'Database Management Systems'])])"
      ]
     },
     "execution_count": 46,
     "metadata": {},
     "output_type": "execute_result"
    }
   ],
   "source": [
    "education_response"
   ]
  },
  {
   "cell_type": "code",
   "execution_count": null,
   "metadata": {},
   "outputs": [],
   "source": []
  }
 ],
 "metadata": {
  "kernelspec": {
   "display_name": "Python 3",
   "language": "python",
   "name": "python3"
  },
  "language_info": {
   "codemirror_mode": {
    "name": "ipython",
    "version": 3
   },
   "file_extension": ".py",
   "mimetype": "text/x-python",
   "name": "python",
   "nbconvert_exporter": "python",
   "pygments_lexer": "ipython3",
   "version": "3.10.15"
  }
 },
 "nbformat": 4,
 "nbformat_minor": 2
}
